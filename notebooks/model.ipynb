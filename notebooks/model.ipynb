{
 "cells": [
  {
   "cell_type": "markdown",
   "id": "507a4fa1",
   "metadata": {},
   "source": [
    "# Sagemaker\n",
    "\n",
    "### Necessary imports"
   ]
  },
  {
   "cell_type": "code",
   "execution_count": 2,
   "id": "27a96d97",
   "metadata": {},
   "outputs": [],
   "source": [
    "import boto3\n",
    "import sagemaker\n",
    "from sagemaker.amazon.amazon_estimator import get_image_uri\n",
    "\n",
    "import numpy as np\n",
    "import io\n",
    "import pandas as pd\n",
    "from sklearn.model_selection import train_test_split"
   ]
  },
  {
   "cell_type": "markdown",
   "id": "157ee3fe",
   "metadata": {},
   "source": [
    "### Load data\n",
    "\n",
    "Read the data **from a S3 bucket to a CSV**. "
   ]
  },
  {
   "cell_type": "code",
   "execution_count": 3,
   "id": "12e0ef4a",
   "metadata": {},
   "outputs": [],
   "source": [
    "df = pd.read_csv(\n",
    "    's3://la-liga-final-project/datasets/players_full_data_v2.csv'\n",
    ")"
   ]
  },
  {
   "cell_type": "code",
   "execution_count": 4,
   "id": "b2b68923",
   "metadata": {},
   "outputs": [
    {
     "data": {
      "text/html": [
       "<div>\n",
       "<style scoped>\n",
       "    .dataframe tbody tr th:only-of-type {\n",
       "        vertical-align: middle;\n",
       "    }\n",
       "\n",
       "    .dataframe tbody tr th {\n",
       "        vertical-align: top;\n",
       "    }\n",
       "\n",
       "    .dataframe thead th {\n",
       "        text-align: right;\n",
       "    }\n",
       "</style>\n",
       "<table border=\"1\" class=\"dataframe\">\n",
       "  <thead>\n",
       "    <tr style=\"text-align: right;\">\n",
       "      <th></th>\n",
       "      <th>weekNumber</th>\n",
       "      <th>totalPoints</th>\n",
       "      <th>id</th>\n",
       "      <th>name</th>\n",
       "      <th>position</th>\n",
       "      <th>team_id</th>\n",
       "      <th>team_shortName</th>\n",
       "      <th>cum_totalPoints</th>\n",
       "      <th>cumavg_totalPoints</th>\n",
       "      <th>curr_match_as_local</th>\n",
       "      <th>curr_match_opponent_id</th>\n",
       "    </tr>\n",
       "  </thead>\n",
       "  <tbody>\n",
       "    <tr>\n",
       "      <th>0</th>\n",
       "      <td>1</td>\n",
       "      <td>1</td>\n",
       "      <td>1000</td>\n",
       "      <td>Edgar Paul Akouokou</td>\n",
       "      <td>Centrocampista</td>\n",
       "      <td>5</td>\n",
       "      <td>BET</td>\n",
       "      <td>0.0</td>\n",
       "      <td>0.00</td>\n",
       "      <td>True</td>\n",
       "      <td>7</td>\n",
       "    </tr>\n",
       "    <tr>\n",
       "      <th>1</th>\n",
       "      <td>2</td>\n",
       "      <td>2</td>\n",
       "      <td>1000</td>\n",
       "      <td>Edgar Paul Akouokou</td>\n",
       "      <td>Centrocampista</td>\n",
       "      <td>5</td>\n",
       "      <td>BET</td>\n",
       "      <td>1.0</td>\n",
       "      <td>1.00</td>\n",
       "      <td>False</td>\n",
       "      <td>33</td>\n",
       "    </tr>\n",
       "    <tr>\n",
       "      <th>2</th>\n",
       "      <td>3</td>\n",
       "      <td>0</td>\n",
       "      <td>1000</td>\n",
       "      <td>Edgar Paul Akouokou</td>\n",
       "      <td>Centrocampista</td>\n",
       "      <td>5</td>\n",
       "      <td>BET</td>\n",
       "      <td>3.0</td>\n",
       "      <td>1.50</td>\n",
       "      <td>True</td>\n",
       "      <td>13</td>\n",
       "    </tr>\n",
       "    <tr>\n",
       "      <th>3</th>\n",
       "      <td>5</td>\n",
       "      <td>0</td>\n",
       "      <td>1000</td>\n",
       "      <td>Edgar Paul Akouokou</td>\n",
       "      <td>Centrocampista</td>\n",
       "      <td>5</td>\n",
       "      <td>BET</td>\n",
       "      <td>3.0</td>\n",
       "      <td>1.00</td>\n",
       "      <td>True</td>\n",
       "      <td>20</td>\n",
       "    </tr>\n",
       "    <tr>\n",
       "      <th>4</th>\n",
       "      <td>6</td>\n",
       "      <td>2</td>\n",
       "      <td>1000</td>\n",
       "      <td>Edgar Paul Akouokou</td>\n",
       "      <td>Centrocampista</td>\n",
       "      <td>5</td>\n",
       "      <td>BET</td>\n",
       "      <td>3.0</td>\n",
       "      <td>0.75</td>\n",
       "      <td>True</td>\n",
       "      <td>28</td>\n",
       "    </tr>\n",
       "  </tbody>\n",
       "</table>\n",
       "</div>"
      ],
      "text/plain": [
       "   weekNumber  totalPoints    id                 name        position  \\\n",
       "0           1            1  1000  Edgar Paul Akouokou  Centrocampista   \n",
       "1           2            2  1000  Edgar Paul Akouokou  Centrocampista   \n",
       "2           3            0  1000  Edgar Paul Akouokou  Centrocampista   \n",
       "3           5            0  1000  Edgar Paul Akouokou  Centrocampista   \n",
       "4           6            2  1000  Edgar Paul Akouokou  Centrocampista   \n",
       "\n",
       "   team_id team_shortName  cum_totalPoints  cumavg_totalPoints  \\\n",
       "0        5            BET              0.0                0.00   \n",
       "1        5            BET              1.0                1.00   \n",
       "2        5            BET              3.0                1.50   \n",
       "3        5            BET              3.0                1.00   \n",
       "4        5            BET              3.0                0.75   \n",
       "\n",
       "   curr_match_as_local  curr_match_opponent_id  \n",
       "0                 True                       7  \n",
       "1                False                      33  \n",
       "2                 True                      13  \n",
       "3                 True                      20  \n",
       "4                 True                      28  "
      ]
     },
     "execution_count": 4,
     "metadata": {},
     "output_type": "execute_result"
    }
   ],
   "source": [
    "df.head()"
   ]
  },
  {
   "cell_type": "code",
   "execution_count": 90,
   "id": "a6063962",
   "metadata": {},
   "outputs": [],
   "source": [
    "df = df.drop(columns=['weekNumber', 'name', 'team_shortName', 'position'])"
   ]
  },
  {
   "cell_type": "code",
   "execution_count": 91,
   "id": "ca3730e2",
   "metadata": {},
   "outputs": [],
   "source": [
    "# filtering out players that appear less than 10 times as we need \n",
    "# substantial information for training and testing\n",
    "tmp = df['id'].tolist()\n",
    "df = df[df['id'].apply(lambda x: tmp.count(x) >= 10)]"
   ]
  },
  {
   "cell_type": "code",
   "execution_count": 92,
   "id": "544e63e1",
   "metadata": {},
   "outputs": [
    {
     "data": {
      "text/html": [
       "<div>\n",
       "<style scoped>\n",
       "    .dataframe tbody tr th:only-of-type {\n",
       "        vertical-align: middle;\n",
       "    }\n",
       "\n",
       "    .dataframe tbody tr th {\n",
       "        vertical-align: top;\n",
       "    }\n",
       "\n",
       "    .dataframe thead th {\n",
       "        text-align: right;\n",
       "    }\n",
       "</style>\n",
       "<table border=\"1\" class=\"dataframe\">\n",
       "  <thead>\n",
       "    <tr style=\"text-align: right;\">\n",
       "      <th></th>\n",
       "      <th>totalPoints</th>\n",
       "      <th>id</th>\n",
       "      <th>team_id</th>\n",
       "      <th>cum_totalPoints</th>\n",
       "      <th>cumavg_totalPoints</th>\n",
       "      <th>curr_match_as_local</th>\n",
       "      <th>curr_match_opponent_id</th>\n",
       "    </tr>\n",
       "  </thead>\n",
       "  <tbody>\n",
       "    <tr>\n",
       "      <th>0</th>\n",
       "      <td>1</td>\n",
       "      <td>1000</td>\n",
       "      <td>5</td>\n",
       "      <td>0.0</td>\n",
       "      <td>0.00</td>\n",
       "      <td>True</td>\n",
       "      <td>7</td>\n",
       "    </tr>\n",
       "    <tr>\n",
       "      <th>1</th>\n",
       "      <td>2</td>\n",
       "      <td>1000</td>\n",
       "      <td>5</td>\n",
       "      <td>1.0</td>\n",
       "      <td>1.00</td>\n",
       "      <td>False</td>\n",
       "      <td>33</td>\n",
       "    </tr>\n",
       "    <tr>\n",
       "      <th>2</th>\n",
       "      <td>0</td>\n",
       "      <td>1000</td>\n",
       "      <td>5</td>\n",
       "      <td>3.0</td>\n",
       "      <td>1.50</td>\n",
       "      <td>True</td>\n",
       "      <td>13</td>\n",
       "    </tr>\n",
       "    <tr>\n",
       "      <th>3</th>\n",
       "      <td>0</td>\n",
       "      <td>1000</td>\n",
       "      <td>5</td>\n",
       "      <td>3.0</td>\n",
       "      <td>1.00</td>\n",
       "      <td>True</td>\n",
       "      <td>20</td>\n",
       "    </tr>\n",
       "    <tr>\n",
       "      <th>4</th>\n",
       "      <td>2</td>\n",
       "      <td>1000</td>\n",
       "      <td>5</td>\n",
       "      <td>3.0</td>\n",
       "      <td>0.75</td>\n",
       "      <td>True</td>\n",
       "      <td>28</td>\n",
       "    </tr>\n",
       "  </tbody>\n",
       "</table>\n",
       "</div>"
      ],
      "text/plain": [
       "   totalPoints    id  team_id  cum_totalPoints  cumavg_totalPoints  \\\n",
       "0            1  1000        5              0.0                0.00   \n",
       "1            2  1000        5              1.0                1.00   \n",
       "2            0  1000        5              3.0                1.50   \n",
       "3            0  1000        5              3.0                1.00   \n",
       "4            2  1000        5              3.0                0.75   \n",
       "\n",
       "   curr_match_as_local  curr_match_opponent_id  \n",
       "0                 True                       7  \n",
       "1                False                      33  \n",
       "2                 True                      13  \n",
       "3                 True                      20  \n",
       "4                 True                      28  "
      ]
     },
     "execution_count": 92,
     "metadata": {},
     "output_type": "execute_result"
    }
   ],
   "source": [
    "# target\n",
    "target_var = 'totalPoints'\n",
    "\n",
    "# move target column to first\n",
    "target_col = df.pop(target_var)\n",
    "df.insert(0, target_var, target_col)\n",
    "\n",
    "df.head()"
   ]
  },
  {
   "cell_type": "markdown",
   "id": "95dd32f2",
   "metadata": {},
   "source": [
    "### Train / Val / Test split\n",
    "\n",
    "We split the data into train (80%), validation (10%) and test (10%) sets. "
   ]
  },
  {
   "cell_type": "code",
   "execution_count": 93,
   "id": "d5bfc6e8",
   "metadata": {},
   "outputs": [],
   "source": [
    "train, testval = train_test_split(df, train_size=0.8, random_state=1200, stratify=df[['id']])\n",
    "val, test = train_test_split(testval, train_size=0.5, random_state=1200, stratify=testval[['id']])"
   ]
  },
  {
   "cell_type": "code",
   "execution_count": 94,
   "id": "b4f5b29d",
   "metadata": {},
   "outputs": [
    {
     "data": {
      "text/plain": [
       "((6764, 7), (845, 7), (846, 7))"
      ]
     },
     "execution_count": 94,
     "metadata": {},
     "output_type": "execute_result"
    }
   ],
   "source": [
    "train.shape, val.shape, test.shape"
   ]
  },
  {
   "cell_type": "markdown",
   "id": "3ba1f7b3",
   "metadata": {},
   "source": [
    "To work with Sagemaker, we need to upload our data to S3. This snippet achieves that. Note what the snippet does: \n",
    "\n",
    "- It uses `.to_csv` as if it was writing to a file, but instead of giving a file it writes to an object of the class `StringIO`. This acts as an intermediate string placeholder. \n",
    "- It writes to S3, like in the example we saw in Lambda functions, but now giving as body the contents of the `StringIO`. "
   ]
  },
  {
   "cell_type": "code",
   "execution_count": 95,
   "id": "1af200a2",
   "metadata": {},
   "outputs": [],
   "source": [
    "s3 = boto3.resource('s3')\n",
    "\n",
    "def upload_to_s3(df, bucket, filename):\n",
    "    \n",
    "    placeholder = io.StringIO()\n",
    "    df.to_csv(placeholder, header=False, index=False)\n",
    "    object = s3.Object(bucket, filename)\n",
    "    object.put(Body=placeholder.getvalue())\n",
    "    "
   ]
  },
  {
   "cell_type": "markdown",
   "id": "8d64d4fc",
   "metadata": {},
   "source": [
    "After defining this, we proceed to the upload of the train and validation split. "
   ]
  },
  {
   "cell_type": "code",
   "execution_count": 97,
   "id": "30701f89",
   "metadata": {},
   "outputs": [],
   "source": [
    "upload_to_s3(train, 'la-liga-final-project', 'output/train.csv')"
   ]
  },
  {
   "cell_type": "code",
   "execution_count": 98,
   "id": "5e124baf",
   "metadata": {},
   "outputs": [],
   "source": [
    "upload_to_s3(val, 'la-liga-final-project', 'output/val.csv')"
   ]
  },
  {
   "cell_type": "markdown",
   "id": "a277db6b",
   "metadata": {},
   "source": [
    "(Go to the S3 console and verify these files are there)"
   ]
  },
  {
   "cell_type": "markdown",
   "id": "66910419",
   "metadata": {},
   "source": [
    "## Setting up the model"
   ]
  },
  {
   "cell_type": "markdown",
   "id": "aa8c5ac5",
   "metadata": {},
   "source": [
    "Now that's the part where we set up our model. \n",
    "\n",
    "We use the class `Estimator` from the `sagemaker.estimator` module. That will create the **environment** to run  training jobs for a model.\n",
    "\n",
    "We specify: \n",
    "\n",
    "- A container name (Sagemaker works with containers. This code is pointing to a pre-existing container that holds everything that is needed to run xgboost. \n",
    "- A role name (the training job needs a role to have sufficient permissions, similarly to what we saw in Lambda functions). Remember that we created this role when starting the notebook server. \n",
    "- The number of instances for training (we use 1 but could use more in large jobs, to scale). \n",
    "- The type of instance (we select one that's included in the Sagemaker Free Tier). \n",
    "- The output path, where the model and other info will be written\n",
    "- The hyperparameters of the algorithm (number of training rounds and loss function)\n",
    "- The current session (it needs that for internal purposes)\n",
    "\n",
    "(Remember to check the [pricing info](https://aws.amazon.com/sagemaker/pricing/#:~:text=amount%20of%20usage.-,Amazon%20SageMaker%20Free%20Tier,-Amazon%20SageMaker%20is) for more details on the Sagemaker Free Tier)"
   ]
  },
  {
   "cell_type": "code",
   "execution_count": 99,
   "id": "158fbed1",
   "metadata": {},
   "outputs": [
    {
     "name": "stderr",
     "output_type": "stream",
     "text": [
      "INFO:sagemaker.image_uris:Defaulting to only available Python version: py3\n",
      "INFO:sagemaker.image_uris:Defaulting to only supported image scope: cpu.\n"
     ]
    }
   ],
   "source": [
    "region_name = boto3.Session().region_name\n",
    "role = sagemaker.get_execution_role()\n",
    "\n",
    "\n",
    "container = sagemaker.image_uris.retrieve('xgboost', \n",
    "                                          region_name,\n",
    "                                          version='0.90-1')\n",
    "\n",
    "\n",
    "output_location = 's3://la-liga-final-project/sagemaker/'\n",
    "\n",
    "#For a list of possible parameters of xgboost, see\n",
    "# https://github.com/dmlc/xgboost/blob/master/doc/parameter.rst#learning-task-parameters\n",
    "hyperparams = {\n",
    "    'num_round': '20',\n",
    "    'objective': 'reg:squarederror'\n",
    "}\n",
    "\n",
    "estimator = sagemaker.estimator.Estimator(\n",
    "    container,\n",
    "    role,\n",
    "    instance_count=1,\n",
    "    instance_type='ml.t3.medium',\n",
    "    output_path=output_location,\n",
    "    hyperparameters=hyperparams,\n",
    "    sagemaker_session=sagemaker.Session()\n",
    ")"
   ]
  },
  {
   "cell_type": "markdown",
   "id": "8722b5c6",
   "metadata": {},
   "source": [
    "Now we have to crete what sagemaker calls \"channels\". We need to specify where is the data and in which format in a specific dictionary:  "
   ]
  },
  {
   "cell_type": "code",
   "execution_count": 100,
   "id": "2e5c0f4e",
   "metadata": {},
   "outputs": [
    {
     "name": "stderr",
     "output_type": "stream",
     "text": [
      "WARNING:sagemaker.deprecations:The class sagemaker.session.s3_input has been renamed in sagemaker>=2.\n",
      "See: https://sagemaker.readthedocs.io/en/stable/v2.html for details.\n",
      "WARNING:sagemaker.deprecations:The class sagemaker.session.s3_input has been renamed in sagemaker>=2.\n",
      "See: https://sagemaker.readthedocs.io/en/stable/v2.html for details.\n"
     ]
    }
   ],
   "source": [
    "train_channel = sagemaker.session.s3_input(\n",
    "    's3://la-liga-final-project/output/train.csv',\n",
    "    content_type='text/csv'\n",
    ")\n",
    "val_channel = sagemaker.session.s3_input(\n",
    "    's3://la-liga-final-project/output/val.csv',\n",
    "    content_type='text/csv'\n",
    ")\n",
    "\n",
    "channels_for_training = {\n",
    "    'train': train_channel,\n",
    "    'validation': val_channel\n",
    "}"
   ]
  },
  {
   "cell_type": "markdown",
   "id": "937e5471",
   "metadata": {},
   "source": [
    "We are ready to train. \n",
    "\n",
    "When we execute the cell below, a training job will be launched. The training job is a \"managed service\" independent from this notebook. So if you go to the Sagemaker console and click on \"Training jobs\", you will find it there. \n",
    "\n",
    "BTW: once you got to this point, you could also launch a training job from the console (it will request you to enter all the information above manually-- just for you to know it is possible). \n"
   ]
  },
  {
   "cell_type": "code",
   "execution_count": 101,
   "id": "9d0087c6",
   "metadata": {},
   "outputs": [
    {
     "name": "stderr",
     "output_type": "stream",
     "text": [
      "INFO:sagemaker:Creating training-job with name: sagemaker-xgboost-2023-03-11-14-17-58-037\n"
     ]
    },
    {
     "name": "stdout",
     "output_type": "stream",
     "text": [
      "\n",
      "2023-03-11 14:17:58 Starting - Starting the training job...........\n",
      "2023-03-11 14:18:54 Starting - Preparing the instances for training................\n",
      "2023-03-11 14:20:23 Downloading - Downloading input data....\n",
      "2023-03-11 14:20:48 Training - Downloading the training image......\n",
      "2023-03-11 14:21:23 Training - Training image download completed. Training in progress....\n",
      "2023-03-11 14:21:44 Uploading - Uploading generated training model..\n",
      "2023-03-11 14:22:00 Completed - Training job completed\n"
     ]
    }
   ],
   "source": [
    "estimator.fit(inputs=channels_for_training, logs=False)"
   ]
  },
  {
   "cell_type": "markdown",
   "id": "99e45675",
   "metadata": {},
   "source": [
    "We can print the job name -- this is the name that appears in the console. "
   ]
  },
  {
   "cell_type": "code",
   "execution_count": 102,
   "id": "fe1f1cf9",
   "metadata": {},
   "outputs": [
    {
     "data": {
      "text/plain": [
       "'sagemaker-xgboost-2023-03-11-14-17-58-037'"
      ]
     },
     "execution_count": 102,
     "metadata": {},
     "output_type": "execute_result"
    }
   ],
   "source": [
    "estimator._current_job_name"
   ]
  },
  {
   "cell_type": "markdown",
   "id": "4302dc8b",
   "metadata": {},
   "source": [
    "Finally, we can also get some metrics of the training job here. "
   ]
  },
  {
   "cell_type": "code",
   "execution_count": 103,
   "id": "50cd08e9",
   "metadata": {},
   "outputs": [],
   "source": [
    "metrics = sagemaker.analytics.TrainingJobAnalytics(\n",
    "    estimator._current_job_name,\n",
    "    metric_names=['train:rmse', 'validation:rmse']\n",
    ")"
   ]
  },
  {
   "cell_type": "code",
   "execution_count": 104,
   "id": "90334c0e",
   "metadata": {},
   "outputs": [
    {
     "data": {
      "text/html": [
       "<div>\n",
       "<style scoped>\n",
       "    .dataframe tbody tr th:only-of-type {\n",
       "        vertical-align: middle;\n",
       "    }\n",
       "\n",
       "    .dataframe tbody tr th {\n",
       "        vertical-align: top;\n",
       "    }\n",
       "\n",
       "    .dataframe thead th {\n",
       "        text-align: right;\n",
       "    }\n",
       "</style>\n",
       "<table border=\"1\" class=\"dataframe\">\n",
       "  <thead>\n",
       "    <tr style=\"text-align: right;\">\n",
       "      <th></th>\n",
       "      <th>timestamp</th>\n",
       "      <th>metric_name</th>\n",
       "      <th>value</th>\n",
       "    </tr>\n",
       "  </thead>\n",
       "  <tbody>\n",
       "    <tr>\n",
       "      <th>0</th>\n",
       "      <td>0.0</td>\n",
       "      <td>train:rmse</td>\n",
       "      <td>2.52256</td>\n",
       "    </tr>\n",
       "    <tr>\n",
       "      <th>1</th>\n",
       "      <td>0.0</td>\n",
       "      <td>validation:rmse</td>\n",
       "      <td>2.97158</td>\n",
       "    </tr>\n",
       "  </tbody>\n",
       "</table>\n",
       "</div>"
      ],
      "text/plain": [
       "   timestamp      metric_name    value\n",
       "0        0.0       train:rmse  2.52256\n",
       "1        0.0  validation:rmse  2.97158"
      ]
     },
     "execution_count": 104,
     "metadata": {},
     "output_type": "execute_result"
    }
   ],
   "source": [
    "metrics.dataframe()"
   ]
  }
 ],
 "metadata": {
  "kernelspec": {
   "display_name": "conda_tensorflow2_p310",
   "language": "python",
   "name": "conda_tensorflow2_p310"
  },
  "language_info": {
   "codemirror_mode": {
    "name": "ipython",
    "version": 3
   },
   "file_extension": ".py",
   "mimetype": "text/x-python",
   "name": "python",
   "nbconvert_exporter": "python",
   "pygments_lexer": "ipython3",
   "version": "3.10.8"
  }
 },
 "nbformat": 4,
 "nbformat_minor": 5
}
